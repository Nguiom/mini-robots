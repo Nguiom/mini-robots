{
  "nbformat": 4,
  "nbformat_minor": 0,
  "metadata": {
    "colab": {
      "provenance": [],
      "authorship_tag": "ABX9TyNhdz1E+6+inUZzL1Oo4XXp",
      "include_colab_link": true
    },
    "kernelspec": {
      "name": "python3",
      "display_name": "Python 3"
    },
    "language_info": {
      "name": "python"
    }
  },
  "cells": [
    {
      "cell_type": "markdown",
      "metadata": {
        "id": "view-in-github",
        "colab_type": "text"
      },
      "source": [
        "<a href=\"https://colab.research.google.com/github/Nguiom/mini-robots/blob/main/cap1.ipynb\" target=\"_parent\"><img src=\"https://colab.research.google.com/assets/colab-badge.svg\" alt=\"Open In Colab\"/></a>"
      ]
    },
    {
      "cell_type": "markdown",
      "source": [
        "# Cap1\n",
        "\n",
        "\n",
        "## 1)\n",
        "\n",
        "\n",
        "*   Chatgpt: La Inteligencia Artificial (IA) es una rama de la informática que se enfoca en crear sistemas capaces de realizar tareas que normalmente requieren inteligencia humana. Estas tareas incluyen el reconocimiento de voz, la comprensión del lenguaje natural, el razonamiento, el aprendizaje, la toma de decisiones y la percepción visual.\n",
        "*   Gemini: La Inteligencia Artificial (IA) se define generalmente como un campo de la informática dedicado a la creación de sistemas o máquinas capaces de realizar tareas que normalmente requieren inteligencia humana.\n",
        "* La Inteligencia Artificial (IA) es una rama de la ciencia de la computación que se enfoca en crear sistemas o máquinas capaces de realizar tareas que normalmente requerirían inteligencia humana, como: Aprendizaje (machine learning, deep learning), razonamiento (lógica, toma de decisiones), percepción (visión por computadora, procesamiento de lenguaje natural), interacción (robótica, chatbots, asistentes virtuales).\n",
        "\n",
        "## 2)\n",
        "La inteligencia artificial (abreviado: IA), en el contexto de las ciencias de la computación, es una disciplina y un conjunto de capacidades cognoscitivas e intelectuales expresadas por sistemas informáticos o combinaciones de algoritmos cuyo propósito es la creación de máquinas que imiten la inteligencia humana para realizar tareas, y que pueden mejorar conforme recopilen información.\n",
        "\n",
        "## 3)\n",
        "\n",
        "La robotica no se encuentra limitada a maquinas sino que el uso seres biologicos abren la puerta a posibles solucionos que no se guien de lo convencional.\n",
        "\n",
        "## 4)\n",
        "\n",
        "El gobienor cuenta con una ruta de acción la cual tiene como misión \"Asegurar que, en el 2033, el 50% de las organizaciones del país hayan adoptado la\n",
        "inteligencia artificial garantizando el uso y aplicación responsable, ética y sostenible de los desarrollos tecnológicos correspondientes.\". La cual se puede encontrar en su totalidad en: https://minciencias.gov.co/sites/default/files/upload/noticias/hoja_de_ruta_adopcion_etica_y_sostenible_de_inteligencia_artificial_colombia_0.pdf\n",
        "\n",
        "\n",
        "\n"
      ],
      "metadata": {
        "id": "puyJiFdKfjnl"
      }
    }
  ]
}